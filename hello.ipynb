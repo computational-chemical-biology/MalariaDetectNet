import sys
sys.path.append("..")
from hello import hello

# Chamando a função de saudação
hello('Joca')
